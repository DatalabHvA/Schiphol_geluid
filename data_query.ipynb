{
 "cells": [
  {
   "cell_type": "code",
   "execution_count": 1,
   "id": "d2e3c1fa-4daf-4cd6-b286-c7b6c52c19f2",
   "metadata": {
    "tags": []
   },
   "outputs": [],
   "source": [
    "import requests\n",
    "import pandas as pd\n",
    "import numpy as np"
   ]
  },
  {
   "cell_type": "code",
   "execution_count": 2,
   "id": "2ca25660-1d82-4cc1-8d26-be8af89ffd83",
   "metadata": {
    "tags": []
   },
   "outputs": [],
   "source": [
    "url = 'https://www.sensornet.nl/dataserver3/event/collection/nina_events/stream?conditions%5B0%5D%5B%5D=time&conditions%5B0%5D%5B%5D=%3E%3D&conditions%5B0%5D%5B%5D={}&conditions%5B1%5D%5B%5D=time&conditions%5B1%5D%5B%5D=%3C&conditions%5B1%5D%5B%5D={}&conditions%5B2%5D%5B%5D=label&conditions%5B2%5D%5B%5D=in&conditions%5B2%5D%5B2%5D%5B%5D=21&conditions%5B2%5D%5B2%5D%5B%5D=32&conditions%5B2%5D%5B2%5D%5B%5D=33&conditions%5B2%5D%5B2%5D%5B%5D=34&args%5B%5D={}&args%5B%5D=schiphol&fields%5B%5D=time&fields%5B%5D=location_short&fields%5B%5D=location_long&fields%5B%5D=duration&fields%5B%5D=SEL&fields%5B%5D=SELd&fields%5B%5D=SELe&fields%5B%5D=SELn&fields%5B%5D=SELden&fields%5B%5D=SEL_dB&fields%5B%5D=lasmax_dB&fields%5B%5D=callsign&fields%5B%5D=type&fields%5B%5D=altitude&fields%5B%5D=distance&fields%5B%5D=winddirection&fields%5B%5D=windspeed&fields%5B%5D=label&fields%5B%5D=hex_s&fields%5B%5D=registration&fields%5B%5D=icao_type&fields%5B%5D=serial&fields%5B%5D=operator&fields%5B%5D=tags'.format"
   ]
  },
  {
   "cell_type": "code",
   "execution_count": 3,
   "id": "5a3501f8-40c8-4ea1-97d7-59760be300de",
   "metadata": {},
   "outputs": [
    {
     "name": "stdout",
     "output_type": "stream",
     "text": [
      "1720389600 1751925600\n"
     ]
    }
   ],
   "source": [
    "#start date in epoch seconds\n",
    "startdate = int(pd.to_datetime('2024-07-08').strftime(\"%s\"))\n",
    "#end date in epoch seconds\n",
    "enddate = int(pd.to_datetime('2025-07-08').strftime(\"%s\"))\n",
    "print(startdate, enddate)"
   ]
  },
  {
   "cell_type": "code",
   "execution_count": 4,
   "id": "0a552775-749e-494d-85bd-42c4b178a3af",
   "metadata": {
    "tags": []
   },
   "outputs": [
    {
     "data": {
      "text/plain": [
       "'https://www.sensornet.nl/dataserver3/event/collection/nina_events/stream?conditions%5B0%5D%5B%5D=time&conditions%5B0%5D%5B%5D=%3E%3D&conditions%5B0%5D%5B%5D=1704063600&conditions%5B1%5D%5B%5D=time&conditions%5B1%5D%5B%5D=%3C&conditions%5B1%5D%5B%5D=1751925600&conditions%5B2%5D%5B%5D=label&conditions%5B2%5D%5B%5D=in&conditions%5B2%5D%5B2%5D%5B%5D=21&conditions%5B2%5D%5B2%5D%5B%5D=32&conditions%5B2%5D%5B2%5D%5B%5D=33&conditions%5B2%5D%5B2%5D%5B%5D=34&args%5B%5D=aalsmeer&args%5B%5D=schiphol&fields%5B%5D=time&fields%5B%5D=location_short&fields%5B%5D=location_long&fields%5B%5D=duration&fields%5B%5D=SEL&fields%5B%5D=SELd&fields%5B%5D=SELe&fields%5B%5D=SELn&fields%5B%5D=SELden&fields%5B%5D=SEL_dB&fields%5B%5D=lasmax_dB&fields%5B%5D=callsign&fields%5B%5D=type&fields%5B%5D=altitude&fields%5B%5D=distance&fields%5B%5D=winddirection&fields%5B%5D=windspeed&fields%5B%5D=label&fields%5B%5D=hex_s&fields%5B%5D=registration&fields%5B%5D=icao_type&fields%5B%5D=serial&fields%5B%5D=operator&fields%5B%5D=tags'"
      ]
     },
     "execution_count": 4,
     "metadata": {},
     "output_type": "execute_result"
    }
   ],
   "source": [
    "url(1704063600,1751925600,'aalsmeer')"
   ]
  },
  {
   "cell_type": "code",
   "execution_count": 5,
   "id": "34a2fc6d-9f7e-4f8a-8a4b-aa110d4308c0",
   "metadata": {},
   "outputs": [],
   "source": [
    "response = requests.get(url(1720389600 ,1751925600,'aalsmeer'))"
   ]
  },
  {
   "cell_type": "code",
   "execution_count": 6,
   "id": "05c1f7c9-c6ec-40a2-9a88-5caccf1c3c08",
   "metadata": {},
   "outputs": [
    {
     "name": "stdout",
     "output_type": "stream",
     "text": [
      "<Response [200]>\n",
      "(587289, 25)\n"
     ]
    }
   ],
   "source": [
    "print(response)\n",
    "print(pd.DataFrame(response.json()['rows']).shape)"
   ]
  },
  {
   "cell_type": "code",
   "execution_count": 7,
   "id": "920c6dd4-9324-4742-bc71-bc121a89e8e3",
   "metadata": {
    "tags": []
   },
   "outputs": [],
   "source": [
    "def process_month(url):\n",
    "    response = requests.get(url)\n",
    "    colnames = pd.DataFrame(response.json()['metadata'])\n",
    "    data = pd.DataFrame(response.json()['rows'])\n",
    "    data.columns = colnames.headers\n",
    "    print(data.shape[0])\n",
    "    return data"
   ]
  },
  {
   "cell_type": "code",
   "execution_count": 8,
   "id": "963663a3-4f83-43fd-aa66-824d4b43c53b",
   "metadata": {},
   "outputs": [],
   "source": [
    "datasets = []"
   ]
  },
  {
   "cell_type": "code",
   "execution_count": 9,
   "id": "037ceffc-9f29-41b1-bbf8-cd83b44256fd",
   "metadata": {
    "tags": []
   },
   "outputs": [],
   "source": [
    "fields = ['aalsmeer','leiden','amstelveen','ronde_venen','kaag_en_braassem','katwijk','lisse','nieuwkoop','noordwijk','oegstgeest','teylingen','uithoorn','wassenaar']"
   ]
  },
  {
   "cell_type": "code",
   "execution_count": 10,
   "id": "15012f7f-a33a-42af-abff-e80db638fbcf",
   "metadata": {},
   "outputs": [],
   "source": [
    "# {\n",
    "#     'aalsmeer': {\"lon\": , \"lat\": },\n",
    "#     'leiden': {\"lon\": , \"lat\": },\n",
    "#     'amstelveen': {\"lon\": , \"lat\": },\n",
    "#     'ronde_venen': {\"lon\": , \"lat\": },\n",
    "#     'kaag_en_braassem': {\"lon\": , \"lat\": },\n",
    "#     'katwijk','lisse': {\"lon\": , \"lat\": },\n",
    "#     'nieuwkoop': {\"lon\": , \"lat\": },\n",
    "#     'noordwijk': {\"lon\": , \"lat\": },\n",
    "#     'oegstgeest': {\"lon\": , \"lat\": },\n",
    "#     'teylingen': {\"lon\": , \"lat\": },\n",
    "#     'uithoorn': {\"lon\": , \"lat\": },\n",
    "#     'wassenaar': {\"lon\": , \"lat\": },\n",
    "# }"
   ]
  },
  {
   "cell_type": "code",
   "execution_count": 11,
   "id": "f8508ca6-1fcc-419c-8b83-9d9a18e64b6d",
   "metadata": {
    "tags": []
   },
   "outputs": [
    {
     "name": "stdout",
     "output_type": "stream",
     "text": [
      "aalsmeer\n",
      "587289\n",
      "leiden\n",
      "116772\n",
      "amstelveen\n",
      "255228\n",
      "ronde_venen\n",
      "64047\n",
      "kaag_en_braassem\n",
      "148503\n",
      "katwijk\n",
      "78774\n",
      "lisse\n",
      "160596\n",
      "nieuwkoop\n",
      "223132\n",
      "noordwijk\n",
      "32858\n",
      "oegstgeest\n",
      "149763\n",
      "teylingen\n",
      "237521\n",
      "uithoorn\n",
      "194421\n",
      "wassenaar\n",
      "25680\n"
     ]
    }
   ],
   "source": [
    "for locatie in fields:\n",
    "    print(locatie)\n",
    "    datasets.append(process_month(url(startdate, enddate, locatie)).assign(sensor = locatie))"
   ]
  },
  {
   "cell_type": "code",
   "execution_count": 12,
   "id": "23bb9e68-be16-4ef6-9f31-1b7db1e4a38e",
   "metadata": {
    "tags": []
   },
   "outputs": [
    {
     "data": {
      "text/plain": [
       "13"
      ]
     },
     "execution_count": 12,
     "metadata": {},
     "output_type": "execute_result"
    }
   ],
   "source": [
    "len(datasets)"
   ]
  },
  {
   "cell_type": "code",
   "execution_count": 13,
   "id": "322829e2-fada-4f76-995b-12b0ca17442f",
   "metadata": {
    "tags": []
   },
   "outputs": [
    {
     "data": {
      "text/plain": [
       "(2274584, 26)"
      ]
     },
     "execution_count": 13,
     "metadata": {},
     "output_type": "execute_result"
    }
   ],
   "source": [
    "test = pd.concat(datasets)\n",
    "test.shape"
   ]
  },
  {
   "cell_type": "code",
   "execution_count": 14,
   "id": "3f1e2a80-22f6-4021-b5ae-b94775b24aa5",
   "metadata": {
    "tags": []
   },
   "outputs": [
    {
     "data": {
      "text/html": [
       "<div>\n",
       "<style scoped>\n",
       "    .dataframe tbody tr th:only-of-type {\n",
       "        vertical-align: middle;\n",
       "    }\n",
       "\n",
       "    .dataframe tbody tr th {\n",
       "        vertical-align: top;\n",
       "    }\n",
       "\n",
       "    .dataframe thead th {\n",
       "        text-align: right;\n",
       "    }\n",
       "</style>\n",
       "<table border=\"1\" class=\"dataframe\">\n",
       "  <thead>\n",
       "    <tr style=\"text-align: right;\">\n",
       "      <th>headers</th>\n",
       "      <th>id</th>\n",
       "      <th>location_short</th>\n",
       "      <th>location_long</th>\n",
       "      <th>time</th>\n",
       "      <th>SELd</th>\n",
       "      <th>SELe</th>\n",
       "      <th>SELn</th>\n",
       "      <th>SELden</th>\n",
       "      <th>SEL</th>\n",
       "      <th>SEL_dB</th>\n",
       "      <th>...</th>\n",
       "      <th>callsign</th>\n",
       "      <th>type</th>\n",
       "      <th>tags</th>\n",
       "      <th>duration</th>\n",
       "      <th>hex_s</th>\n",
       "      <th>registration</th>\n",
       "      <th>icao_type</th>\n",
       "      <th>serial</th>\n",
       "      <th>operator</th>\n",
       "      <th>sensor</th>\n",
       "    </tr>\n",
       "  </thead>\n",
       "  <tbody>\n",
       "    <tr>\n",
       "      <th>0</th>\n",
       "      <td>122822081</td>\n",
       "      <td>Aa</td>\n",
       "      <td>Aalsmeerderweg</td>\n",
       "      <td>1720408381</td>\n",
       "      <td>0.0</td>\n",
       "      <td>0.0</td>\n",
       "      <td>5658770.0</td>\n",
       "      <td>56587700</td>\n",
       "      <td>5658770</td>\n",
       "      <td>67.527217</td>\n",
       "      <td>...</td>\n",
       "      <td>TRA91Q</td>\n",
       "      <td>Boeing 737-700</td>\n",
       "      <td>Kaagbaan06_T</td>\n",
       "      <td>62</td>\n",
       "      <td>4841D5</td>\n",
       "      <td>PH-XRB</td>\n",
       "      <td>B737</td>\n",
       "      <td>28256</td>\n",
       "      <td></td>\n",
       "      <td>aalsmeer</td>\n",
       "    </tr>\n",
       "    <tr>\n",
       "      <th>1</th>\n",
       "      <td>122822091</td>\n",
       "      <td>Aa</td>\n",
       "      <td>Aalsmeerderweg</td>\n",
       "      <td>1720408599</td>\n",
       "      <td>0.0</td>\n",
       "      <td>0.0</td>\n",
       "      <td>2167960.0</td>\n",
       "      <td>21679600</td>\n",
       "      <td>2167960</td>\n",
       "      <td>63.360510</td>\n",
       "      <td>...</td>\n",
       "      <td>TRA88C</td>\n",
       "      <td>Boeing 737-800</td>\n",
       "      <td>Kaagbaan06_T</td>\n",
       "      <td>38</td>\n",
       "      <td>48597D</td>\n",
       "      <td>PH-HXN</td>\n",
       "      <td>B738</td>\n",
       "      <td>63623</td>\n",
       "      <td>Transavia</td>\n",
       "      <td>aalsmeer</td>\n",
       "    </tr>\n",
       "    <tr>\n",
       "      <th>2</th>\n",
       "      <td>122822101</td>\n",
       "      <td>Aa</td>\n",
       "      <td>Aalsmeerderweg</td>\n",
       "      <td>1720409168</td>\n",
       "      <td>0.0</td>\n",
       "      <td>0.0</td>\n",
       "      <td>31088100.0</td>\n",
       "      <td>310881000</td>\n",
       "      <td>31088100</td>\n",
       "      <td>74.925944</td>\n",
       "      <td>...</td>\n",
       "      <td>TRA8L</td>\n",
       "      <td>Boeing 737-800</td>\n",
       "      <td>Kaagbaan06_T</td>\n",
       "      <td>32</td>\n",
       "      <td>484134</td>\n",
       "      <td>PH-HZD</td>\n",
       "      <td>B738</td>\n",
       "      <td>28376</td>\n",
       "      <td></td>\n",
       "      <td>aalsmeer</td>\n",
       "    </tr>\n",
       "    <tr>\n",
       "      <th>3</th>\n",
       "      <td>122822111</td>\n",
       "      <td>Aa</td>\n",
       "      <td>Aalsmeerderweg</td>\n",
       "      <td>1720410412</td>\n",
       "      <td>0.0</td>\n",
       "      <td>0.0</td>\n",
       "      <td>3212840.0</td>\n",
       "      <td>32128400</td>\n",
       "      <td>3212840</td>\n",
       "      <td>65.068896</td>\n",
       "      <td>...</td>\n",
       "      <td>TRA635B</td>\n",
       "      <td>Boeing 737-800</td>\n",
       "      <td>Kaagbaan06_T</td>\n",
       "      <td>44</td>\n",
       "      <td>4853D2</td>\n",
       "      <td>PH-HXI</td>\n",
       "      <td>B738</td>\n",
       "      <td>62151</td>\n",
       "      <td>Transavia</td>\n",
       "      <td>aalsmeer</td>\n",
       "    </tr>\n",
       "    <tr>\n",
       "      <th>4</th>\n",
       "      <td>122822121</td>\n",
       "      <td>Aa</td>\n",
       "      <td>Aalsmeerderweg</td>\n",
       "      <td>1720410815</td>\n",
       "      <td>0.0</td>\n",
       "      <td>0.0</td>\n",
       "      <td>1208690.0</td>\n",
       "      <td>12086900</td>\n",
       "      <td>1208690</td>\n",
       "      <td>60.823155</td>\n",
       "      <td>...</td>\n",
       "      <td>TRA1123</td>\n",
       "      <td>Boeing 737-800</td>\n",
       "      <td>Kaagbaan06_T</td>\n",
       "      <td>16</td>\n",
       "      <td>48520B</td>\n",
       "      <td>PH-HXC</td>\n",
       "      <td>B738</td>\n",
       "      <td>41342</td>\n",
       "      <td></td>\n",
       "      <td>aalsmeer</td>\n",
       "    </tr>\n",
       "  </tbody>\n",
       "</table>\n",
       "<p>5 rows × 26 columns</p>\n",
       "</div>"
      ],
      "text/plain": [
       "headers         id location_short   location_long        time  SELd  SELe  \\\n",
       "0        122822081             Aa  Aalsmeerderweg  1720408381   0.0   0.0   \n",
       "1        122822091             Aa  Aalsmeerderweg  1720408599   0.0   0.0   \n",
       "2        122822101             Aa  Aalsmeerderweg  1720409168   0.0   0.0   \n",
       "3        122822111             Aa  Aalsmeerderweg  1720410412   0.0   0.0   \n",
       "4        122822121             Aa  Aalsmeerderweg  1720410815   0.0   0.0   \n",
       "\n",
       "headers        SELn     SELden       SEL     SEL_dB  ...  callsign  \\\n",
       "0         5658770.0   56587700   5658770  67.527217  ...    TRA91Q   \n",
       "1         2167960.0   21679600   2167960  63.360510  ...    TRA88C   \n",
       "2        31088100.0  310881000  31088100  74.925944  ...     TRA8L   \n",
       "3         3212840.0   32128400   3212840  65.068896  ...   TRA635B   \n",
       "4         1208690.0   12086900   1208690  60.823155  ...   TRA1123   \n",
       "\n",
       "headers            type          tags  duration   hex_s  registration  \\\n",
       "0        Boeing 737-700  Kaagbaan06_T        62  4841D5        PH-XRB   \n",
       "1        Boeing 737-800  Kaagbaan06_T        38  48597D        PH-HXN   \n",
       "2        Boeing 737-800  Kaagbaan06_T        32  484134        PH-HZD   \n",
       "3        Boeing 737-800  Kaagbaan06_T        44  4853D2        PH-HXI   \n",
       "4        Boeing 737-800  Kaagbaan06_T        16  48520B        PH-HXC   \n",
       "\n",
       "headers icao_type serial   operator    sensor  \n",
       "0            B737  28256             aalsmeer  \n",
       "1            B738  63623  Transavia  aalsmeer  \n",
       "2            B738  28376             aalsmeer  \n",
       "3            B738  62151  Transavia  aalsmeer  \n",
       "4            B738  41342             aalsmeer  \n",
       "\n",
       "[5 rows x 26 columns]"
      ]
     },
     "execution_count": 14,
     "metadata": {},
     "output_type": "execute_result"
    }
   ],
   "source": [
    "test.head()"
   ]
  },
  {
   "cell_type": "code",
   "execution_count": 15,
   "id": "f85906f3-03e1-4e0b-873a-ac16b688ace1",
   "metadata": {
    "tags": []
   },
   "outputs": [],
   "source": [
    "test.to_feather('data/sensornet_all.ftr')"
   ]
  },
  {
   "cell_type": "code",
   "execution_count": null,
   "id": "43eb19e9-abd4-45b4-9ab1-939eafc0e828",
   "metadata": {},
   "outputs": [],
   "source": []
  }
 ],
 "metadata": {
  "kernelspec": {
   "display_name": "Python [conda env:geo]",
   "language": "python",
   "name": "conda-env-geo-py"
  },
  "language_info": {
   "codemirror_mode": {
    "name": "ipython",
    "version": 3
   },
   "file_extension": ".py",
   "mimetype": "text/x-python",
   "name": "python",
   "nbconvert_exporter": "python",
   "pygments_lexer": "ipython3",
   "version": "3.12.11"
  }
 },
 "nbformat": 4,
 "nbformat_minor": 5
}
